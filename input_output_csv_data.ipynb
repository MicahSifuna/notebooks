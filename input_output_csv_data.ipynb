{
 "cells": [
  {
   "cell_type": "code",
   "execution_count": 1,
   "id": "7f4436a9-15cf-42c0-85a5-91d9d8f87615",
   "metadata": {},
   "outputs": [],
   "source": [
    "import pandas as pd"
   ]
  },
  {
   "cell_type": "code",
   "execution_count": 2,
   "id": "9cd37811-fa22-45b0-bb16-6ed713a7e747",
   "metadata": {},
   "outputs": [
    {
     "data": {
      "text/plain": [
       "'C:\\\\Users\\\\USER\\\\Desktop\\\\courses'"
      ]
     },
     "execution_count": 2,
     "metadata": {},
     "output_type": "execute_result"
    }
   ],
   "source": [
    "pwd"
   ]
  },
  {
   "cell_type": "code",
   "execution_count": 3,
   "id": "b9cc0b3d-bb4e-454a-a1c9-0f6a3edb7841",
   "metadata": {},
   "outputs": [
    {
     "name": "stdout",
     "output_type": "stream",
     "text": [
      " Volume in drive C has no label.\n",
      " Volume Serial Number is 1496-999D\n",
      "\n",
      " Directory of C:\\Users\\USER\\Desktop\\courses\n",
      "\n",
      "19/02/2024  18:30    <DIR>          .\n",
      "19/02/2024  18:30    <DIR>          ..\n",
      "19/02/2024  18:30    <DIR>          .ipynb_checkpoints\n",
      "08/01/2024  11:42            73,809 conditional filtering.ipynb\n",
      "08/01/2024  11:44           153,773 dataframe_p1.ipynb\n",
      "12/02/2024  12:24            89,857 group_by.ipynb\n",
      "19/02/2024  18:30                72 input_output.ipynb\n",
      "20/01/2024  16:36            37,334 missing_data.ipynb\n",
      "07/02/2020  22:26               177 movie_scores.csv\n",
      "02/07/2020  01:56            17,727 mpg.csv\n",
      "12/12/2023  18:10            19,074 numpy_essentials.ipynb\n",
      "12/12/2023  17:34            11,765 numpy_indexing.ipynb\n",
      "12/12/2023  17:51            11,009 numpy_operations.ipynb\n",
      "14/12/2023  23:01           723,355 pd_series.ipynb\n",
      "12/12/2023  14:55            17,581 python_crash.ipynb\n",
      "03/07/2020  03:56             5,459 RetailSales_BeerWineLiquor.csv\n",
      "19/01/2024  19:18            91,629 statistical_sorting.ipynb\n",
      "12/02/2024  14:33            10,714 text_data_string_methods.ipynb\n",
      "19/02/2024  18:24            25,150 time_methods.ipynb\n",
      "15/12/2023  00:01            18,752 tips.csv\n",
      "09/01/2024  14:44            40,058 useful_links.ipynb\n",
      "              18 File(s)      1,347,295 bytes\n",
      "               3 Dir(s)  54,051,622,912 bytes free\n"
     ]
    }
   ],
   "source": [
    "ls"
   ]
  },
  {
   "cell_type": "code",
   "execution_count": 4,
   "id": "1e81e805-8dbf-4751-b9ef-3ee3ed897da6",
   "metadata": {},
   "outputs": [],
   "source": [
    "df = pd.read_csv('example.csv')"
   ]
  },
  {
   "cell_type": "code",
   "execution_count": 5,
   "id": "292e227b-7ab5-4114-b498-802d806dbf87",
   "metadata": {},
   "outputs": [
    {
     "data": {
      "text/html": [
       "<div>\n",
       "<style scoped>\n",
       "    .dataframe tbody tr th:only-of-type {\n",
       "        vertical-align: middle;\n",
       "    }\n",
       "\n",
       "    .dataframe tbody tr th {\n",
       "        vertical-align: top;\n",
       "    }\n",
       "\n",
       "    .dataframe thead th {\n",
       "        text-align: right;\n",
       "    }\n",
       "</style>\n",
       "<table border=\"1\" class=\"dataframe\">\n",
       "  <thead>\n",
       "    <tr style=\"text-align: right;\">\n",
       "      <th></th>\n",
       "      <th>a</th>\n",
       "      <th>b</th>\n",
       "      <th>c</th>\n",
       "      <th>d</th>\n",
       "    </tr>\n",
       "  </thead>\n",
       "  <tbody>\n",
       "    <tr>\n",
       "      <th>0</th>\n",
       "      <td>0</td>\n",
       "      <td>1</td>\n",
       "      <td>2</td>\n",
       "      <td>3</td>\n",
       "    </tr>\n",
       "    <tr>\n",
       "      <th>1</th>\n",
       "      <td>4</td>\n",
       "      <td>5</td>\n",
       "      <td>6</td>\n",
       "      <td>7</td>\n",
       "    </tr>\n",
       "    <tr>\n",
       "      <th>2</th>\n",
       "      <td>8</td>\n",
       "      <td>9</td>\n",
       "      <td>10</td>\n",
       "      <td>11</td>\n",
       "    </tr>\n",
       "    <tr>\n",
       "      <th>3</th>\n",
       "      <td>12</td>\n",
       "      <td>13</td>\n",
       "      <td>14</td>\n",
       "      <td>15</td>\n",
       "    </tr>\n",
       "  </tbody>\n",
       "</table>\n",
       "</div>"
      ],
      "text/plain": [
       "    a   b   c   d\n",
       "0   0   1   2   3\n",
       "1   4   5   6   7\n",
       "2   8   9  10  11\n",
       "3  12  13  14  15"
      ]
     },
     "execution_count": 5,
     "metadata": {},
     "output_type": "execute_result"
    }
   ],
   "source": [
    "df"
   ]
  },
  {
   "cell_type": "code",
   "execution_count": 6,
   "id": "60bf70e5-4450-4fba-bb89-d41d43fd0468",
   "metadata": {},
   "outputs": [],
   "source": [
    "#if want to use the index col\n",
    "df = pd.read_csv('example.csv', index_col=0)\n",
    "# a becomes our index col"
   ]
  },
  {
   "cell_type": "code",
   "execution_count": 7,
   "id": "73afe3f1-e1eb-4865-856d-eb94b6043339",
   "metadata": {},
   "outputs": [
    {
     "data": {
      "text/html": [
       "<div>\n",
       "<style scoped>\n",
       "    .dataframe tbody tr th:only-of-type {\n",
       "        vertical-align: middle;\n",
       "    }\n",
       "\n",
       "    .dataframe tbody tr th {\n",
       "        vertical-align: top;\n",
       "    }\n",
       "\n",
       "    .dataframe thead th {\n",
       "        text-align: right;\n",
       "    }\n",
       "</style>\n",
       "<table border=\"1\" class=\"dataframe\">\n",
       "  <thead>\n",
       "    <tr style=\"text-align: right;\">\n",
       "      <th></th>\n",
       "      <th>b</th>\n",
       "      <th>c</th>\n",
       "      <th>d</th>\n",
       "    </tr>\n",
       "    <tr>\n",
       "      <th>a</th>\n",
       "      <th></th>\n",
       "      <th></th>\n",
       "      <th></th>\n",
       "    </tr>\n",
       "  </thead>\n",
       "  <tbody>\n",
       "    <tr>\n",
       "      <th>0</th>\n",
       "      <td>1</td>\n",
       "      <td>2</td>\n",
       "      <td>3</td>\n",
       "    </tr>\n",
       "    <tr>\n",
       "      <th>4</th>\n",
       "      <td>5</td>\n",
       "      <td>6</td>\n",
       "      <td>7</td>\n",
       "    </tr>\n",
       "    <tr>\n",
       "      <th>8</th>\n",
       "      <td>9</td>\n",
       "      <td>10</td>\n",
       "      <td>11</td>\n",
       "    </tr>\n",
       "    <tr>\n",
       "      <th>12</th>\n",
       "      <td>13</td>\n",
       "      <td>14</td>\n",
       "      <td>15</td>\n",
       "    </tr>\n",
       "  </tbody>\n",
       "</table>\n",
       "</div>"
      ],
      "text/plain": [
       "     b   c   d\n",
       "a             \n",
       "0    1   2   3\n",
       "4    5   6   7\n",
       "8    9  10  11\n",
       "12  13  14  15"
      ]
     },
     "execution_count": 7,
     "metadata": {},
     "output_type": "execute_result"
    }
   ],
   "source": [
    "df"
   ]
  },
  {
   "cell_type": "code",
   "execution_count": 13,
   "id": "664c2a93-fff2-4dc1-81c6-e3a2e35edb26",
   "metadata": {},
   "outputs": [],
   "source": [
    "# to save\n",
    "df.to_csv('newfile.csv',index=False) #False because we dont want ot change the previous index col"
   ]
  },
  {
   "cell_type": "code",
   "execution_count": 14,
   "id": "fdb5fe4f-7c87-44de-99db-b16b7b41fb4e",
   "metadata": {},
   "outputs": [],
   "source": [
    "# to read in\n",
    "new = pd.read_csv('newfile.csv')"
   ]
  },
  {
   "cell_type": "code",
   "execution_count": 15,
   "id": "e49ed2f2-527b-4881-98e8-9cde92827163",
   "metadata": {},
   "outputs": [
    {
     "data": {
      "text/html": [
       "<div>\n",
       "<style scoped>\n",
       "    .dataframe tbody tr th:only-of-type {\n",
       "        vertical-align: middle;\n",
       "    }\n",
       "\n",
       "    .dataframe tbody tr th {\n",
       "        vertical-align: top;\n",
       "    }\n",
       "\n",
       "    .dataframe thead th {\n",
       "        text-align: right;\n",
       "    }\n",
       "</style>\n",
       "<table border=\"1\" class=\"dataframe\">\n",
       "  <thead>\n",
       "    <tr style=\"text-align: right;\">\n",
       "      <th></th>\n",
       "      <th>b</th>\n",
       "      <th>c</th>\n",
       "      <th>d</th>\n",
       "    </tr>\n",
       "  </thead>\n",
       "  <tbody>\n",
       "    <tr>\n",
       "      <th>0</th>\n",
       "      <td>1</td>\n",
       "      <td>2</td>\n",
       "      <td>3</td>\n",
       "    </tr>\n",
       "    <tr>\n",
       "      <th>1</th>\n",
       "      <td>5</td>\n",
       "      <td>6</td>\n",
       "      <td>7</td>\n",
       "    </tr>\n",
       "    <tr>\n",
       "      <th>2</th>\n",
       "      <td>9</td>\n",
       "      <td>10</td>\n",
       "      <td>11</td>\n",
       "    </tr>\n",
       "    <tr>\n",
       "      <th>3</th>\n",
       "      <td>13</td>\n",
       "      <td>14</td>\n",
       "      <td>15</td>\n",
       "    </tr>\n",
       "  </tbody>\n",
       "</table>\n",
       "</div>"
      ],
      "text/plain": [
       "    b   c   d\n",
       "0   1   2   3\n",
       "1   5   6   7\n",
       "2   9  10  11\n",
       "3  13  14  15"
      ]
     },
     "execution_count": 15,
     "metadata": {},
     "output_type": "execute_result"
    }
   ],
   "source": [
    "new"
   ]
  },
  {
   "cell_type": "code",
   "execution_count": null,
   "id": "b444a141-da1e-4934-ad9e-ed3ba763553a",
   "metadata": {},
   "outputs": [],
   "source": []
  }
 ],
 "metadata": {
  "kernelspec": {
   "display_name": "Python 3 (ipykernel)",
   "language": "python",
   "name": "python3"
  },
  "language_info": {
   "codemirror_mode": {
    "name": "ipython",
    "version": 3
   },
   "file_extension": ".py",
   "mimetype": "text/x-python",
   "name": "python",
   "nbconvert_exporter": "python",
   "pygments_lexer": "ipython3",
   "version": "3.10.12"
  }
 },
 "nbformat": 4,
 "nbformat_minor": 5
}
